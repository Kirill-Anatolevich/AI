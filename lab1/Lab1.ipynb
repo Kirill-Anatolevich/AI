{
  "nbformat": 4,
  "nbformat_minor": 0,
  "metadata": {
    "colab": {
      "provenance": []
    },
    "kernelspec": {
      "name": "python3",
      "display_name": "Python 3"
    },
    "language_info": {
      "name": "python"
    }
  },
  "cells": [
    {
      "cell_type": "code",
      "execution_count": 85,
      "metadata": {
        "id": "aMZ-lxFdQ_BT"
      },
      "outputs": [],
      "source": [
        "import pandas as pd\n",
        "import numpy as np\n",
        "import matplotlib.pyplot as plt\n",
        "import seaborn as sns\n",
        "import pickle"
      ]
    },
    {
      "cell_type": "code",
      "source": [
        "from sklearn.model_selection import train_test_split\n",
        "from sklearn.pipeline import Pipeline\n",
        "from sklearn.impute import SimpleImputer\n",
        "from sklearn.preprocessing import OneHotEncoder, StandardScaler\n",
        "from sklearn.compose import ColumnTransformer"
      ],
      "metadata": {
        "id": "E5tXrZbzTA0E"
      },
      "execution_count": null,
      "outputs": []
    },
    {
      "cell_type": "code",
      "source": [
        "from imblearn.over_sampling import RandomOverSampler\n",
        "from sklearn.base import BaseEstimator, ClassifierMixin\n",
        "from sklearn.neighbors import KNeighborsClassifier\n",
        "from scipy.stats import gaussian_kde\n",
        "from sklearn.svm import SVC\n",
        "from sklearn.linear_model import SGDClassifier\n",
        "from sklearn.tree import DecisionTreeClassifier\n",
        "from sklearn.preprocessing import StandardScaler, Normalizer\n",
        "from sklearn.model_selection import train_test_split, GridSearchCV, RandomizedSearchCV\n",
        "from sklearn.ensemble import RandomForestClassifier\n",
        "from xgboost import XGBClassifier\n",
        "from sklearn.naive_bayes import GaussianNB\n",
        "from sklearn.metrics import accuracy_score, roc_auc_score, plot_confusion_matrix, precision_score, recall_score, confusion_matrix, ConfusionMatrixDisplay, RocCurveDisplay"
      ],
      "metadata": {
        "id": "dtHw3CemTi2P"
      },
      "execution_count": 100,
      "outputs": []
    },
    {
      "cell_type": "code",
      "source": [
        "df = pd.read_csv('./healthcare-dataset-stroke-data.csv')"
      ],
      "metadata": {
        "id": "6kZHS8qcSAsK"
      },
      "execution_count": null,
      "outputs": []
    },
    {
      "cell_type": "code",
      "source": [
        "columns_to_convert = ['hypertension', 'heart_disease', 'stroke']\n",
        "df[columns_to_convert] = df[columns_to_convert].astype(str)"
      ],
      "metadata": {
        "id": "Lz1YJVXJSHmn"
      },
      "execution_count": null,
      "outputs": []
    },
    {
      "cell_type": "code",
      "source": [
        "df.drop('id', axis= 1, inplace= True)"
      ],
      "metadata": {
        "id": "iHk4oBMOSK7I"
      },
      "execution_count": null,
      "outputs": []
    },
    {
      "cell_type": "code",
      "source": [
        "df.drop(df.loc[df['gender'] == 'Other'].index, inplace= True)"
      ],
      "metadata": {
        "id": "MeU38o4VSQ2Y"
      },
      "execution_count": null,
      "outputs": []
    },
    {
      "cell_type": "markdown",
      "source": [
        "Конвертируем целевой признак в int"
      ],
      "metadata": {
        "id": "PGO2BtUBSexN"
      }
    },
    {
      "cell_type": "code",
      "source": [
        "df['stroke'] = df['stroke'].map({'0': 0, '1': 1})"
      ],
      "metadata": {
        "id": "2uF-eeEjSbqX"
      },
      "execution_count": null,
      "outputs": []
    },
    {
      "cell_type": "code",
      "source": [
        "X = df.drop('stroke', axis=1)\n",
        "y = df['stroke']"
      ],
      "metadata": {
        "id": "N2ZCb2SbUIl5"
      },
      "execution_count": null,
      "outputs": []
    },
    {
      "cell_type": "code",
      "source": [
        "columns_to_convert = ['hypertension', 'heart_disease', 'stroke']\n",
        "df[columns_to_convert] = df[columns_to_convert].astype(str)"
      ],
      "metadata": {
        "id": "S5SNep_9UlvB"
      },
      "execution_count": null,
      "outputs": []
    },
    {
      "cell_type": "code",
      "source": [
        "categorical_pipeline = Pipeline(\n",
        "    steps=[\n",
        "        (\"onehot-encoder\", OneHotEncoder(handle_unknown=\"ignore\", sparse=False,drop='first')),\n",
        "    ]\n",
        ")"
      ],
      "metadata": {
        "id": "1zxIvCgIS6Jw"
      },
      "execution_count": null,
      "outputs": []
    },
    {
      "cell_type": "code",
      "source": [
        "numeric_pipeline = Pipeline(\n",
        "    steps=[\n",
        "           (\"imputer\", SimpleImputer(missing_values=np.nan, strategy='most_frequent')),\n",
        "           (\"scaler\", StandardScaler())\n",
        "         ]\n",
        ")"
      ],
      "metadata": {
        "id": "oti6DA9xTG08"
      },
      "execution_count": null,
      "outputs": []
    },
    {
      "cell_type": "code",
      "source": [
        "cat_features = df.select_dtypes(exclude=\"number\").columns\n",
        "num_cols = df.select_dtypes(include=\"number\").columns\n",
        "cat_cols = cat_features[:-1]"
      ],
      "metadata": {
        "id": "wxiTsZo2TxXO"
      },
      "execution_count": null,
      "outputs": []
    },
    {
      "cell_type": "code",
      "source": [
        "full_processor = ColumnTransformer(\n",
        "    transformers=[\n",
        "        (\"numeric\", numeric_pipeline, num_cols),\n",
        "        (\"categorical\", categorical_pipeline, cat_cols),\n",
        "    ]\n",
        ")"
      ],
      "metadata": {
        "id": "h8RBAeQFTcx_"
      },
      "execution_count": null,
      "outputs": []
    },
    {
      "cell_type": "code",
      "source": [
        "X_processed = full_processor.fit_transform(X)\n",
        "y_processed = y.values.reshape(-1,1)\n",
        "print('X Shape: ', X_processed.shape)\n",
        "print('y shape: ', y_processed.shape)"
      ],
      "metadata": {
        "colab": {
          "base_uri": "https://localhost:8080/"
        },
        "id": "e5I06W0RT7TK",
        "outputId": "4325cd07-2129-448d-dfcf-5ce062946e99"
      },
      "execution_count": null,
      "outputs": [
        {
          "output_type": "stream",
          "name": "stdout",
          "text": [
            "X Shape:  (5109, 15)\n",
            "y shape:  (5109, 1)\n"
          ]
        }
      ]
    },
    {
      "cell_type": "markdown",
      "source": [
        "Воспользуемся RandomOverSampler для борьбы с несбалансированностью классов"
      ],
      "metadata": {
        "id": "vs6KdQ4EWZUH"
      }
    },
    {
      "cell_type": "code",
      "source": [
        "ros = RandomOverSampler(sampling_strategy='minority')\n",
        "\n",
        "X_sample, y_sample = ros.fit_resample(X_processed, y_processed)\n",
        "print('Original Y Count: ', np.unique(y_processed, return_counts=True))\n",
        "print('OverSample Y Count: ', np.unique(y_sample, return_counts=True))"
      ],
      "metadata": {
        "colab": {
          "base_uri": "https://localhost:8080/"
        },
        "id": "t221reVvWkZQ",
        "outputId": "881a766e-2b61-4cf8-f468-88e5e4afb90e"
      },
      "execution_count": null,
      "outputs": [
        {
          "output_type": "stream",
          "name": "stdout",
          "text": [
            "Original Y Count:  (array([0, 1]), array([4860,  249]))\n",
            "OverSample Y Count:  (array([0, 1]), array([4860, 4860]))\n"
          ]
        }
      ]
    },
    {
      "cell_type": "code",
      "source": [
        "X_train, X_test, y_train, y_test = train_test_split(X_sample, y_sample, test_size = 0.3, stratify = y_sample, random_state = 2022)"
      ],
      "metadata": {
        "id": "8AYs5DsMWrTn"
      },
      "execution_count": null,
      "outputs": []
    },
    {
      "cell_type": "code",
      "source": [
        "def draw_scores(model, data, labels):\n",
        "    pred = model.predict(data)\n",
        "    print('Accuracy:', accuracy_score(labels, pred))\n",
        "    print('Precision:', precision_score(labels, pred))\n",
        "    print('Recall:', recall_score(labels, pred))\n",
        "    figure = plt.figure(figsize=(12, 4))\n",
        "    matrix = confusion_matrix(labels, pred)\n",
        "    ax = plt.subplot(1, 2, 1)\n",
        "    ConfusionMatrixDisplay(matrix).plot(ax=ax, cmap='Blues')\n",
        "    ax = plt.subplot(1, 2, 2)\n",
        "    RocCurveDisplay.from_predictions(labels, pred, ax=ax)\n",
        "    plt.subplots_adjust(wspace=0.3)\n",
        "    plt.show()"
      ],
      "metadata": {
        "id": "0KDiEGaNYrVk"
      },
      "execution_count": null,
      "outputs": []
    },
    {
      "cell_type": "markdown",
      "source": [
        "# LogisticRegression"
      ],
      "metadata": {
        "id": "nsgoxktBw_f8"
      }
    },
    {
      "cell_type": "markdown",
      "source": [
        "## Своя реализация"
      ],
      "metadata": {
        "id": "PRzh7xhwxMPg"
      }
    },
    {
      "cell_type": "code",
      "source": [
        "class My_LogisticRegression(BaseEstimator, ClassifierMixin):\n",
        "    def __init__(self, lr=0.1, batch=10, epochs=1, alpha=0.0001):\n",
        "        self.lr = lr\n",
        "        self.batch = batch\n",
        "        self.epochs = epochs\n",
        "        self.alpha = alpha\n",
        "    \n",
        "    def fit(self, data, labels):\n",
        "        self.w = np.random.normal(0, 1, (data.shape[1]+1,))\n",
        "        data = np.concatenate((data, np.ones((data.shape[0],1))), axis=1)\n",
        "        for _ in range(self.epochs):\n",
        "            for i in range(self.batch, len(data), self.batch):\n",
        "                data_batch = data[i-self.batch:i]\n",
        "                labels_batch = labels[i-self.batch:i]\n",
        "                \n",
        "                pred = self.sigmoid(np.dot(self.w, data_batch.T))\n",
        "                grad = 2 * self.alpha * self.w + np.dot(pred - labels_batch, data_batch)\n",
        "                \n",
        "                self.w -= self.lr * grad\n",
        "        return self\n",
        "    \n",
        "    def sigmoid(self, x):\n",
        "        return 1 / (1 + np.exp(-x))\n",
        "    \n",
        "    def predict(self, data):\n",
        "        return (self.sigmoid(np.concatenate((data, np.ones((data.shape[0],1))), axis=1).dot(self.w)) > 0.5).astype('int64')"
      ],
      "metadata": {
        "id": "Ne5cgB1rXO_e"
      },
      "execution_count": null,
      "outputs": []
    },
    {
      "cell_type": "code",
      "source": [
        "random_lr = RandomizedSearchCV(Pipeline([('normalizer', Normalizer()), ('log', My_LogisticRegression())]),\n",
        "                    {'log__lr': [0.1, 0.01, 0.001], 'log__epochs': [1, 10, 100], \n",
        "                     'log__batch': [10, 100, 1000], 'log__alpha': [0.01, 0.001, 0.0001]})\n",
        "random_lr.fit(X_train, y_train)\n",
        "print(random_lr.best_params_, random_lr.best_score_, sep='\\n')"
      ],
      "metadata": {
        "colab": {
          "base_uri": "https://localhost:8080/"
        },
        "id": "whHiWFzKXjF5",
        "outputId": "13ae450b-40bb-4984-e0f5-7a1794c86061"
      },
      "execution_count": 109,
      "outputs": [
        {
          "output_type": "stream",
          "name": "stdout",
          "text": [
            "{'log__lr': 0.01, 'log__epochs': 10, 'log__batch': 10, 'log__alpha': 0.0001}\n",
            "0.774248930284825\n"
          ]
        }
      ]
    },
    {
      "cell_type": "code",
      "source": [
        "grid_lr = GridSearchCV(Pipeline([('normalizer', Normalizer()), ('log', My_LogisticRegression())]),\n",
        "                    {'log__lr': [0.1, 0.01, 0.001], 'log__epochs': [1, 10, 100], \n",
        "                     'log__batch': [10, 100, 1000], 'log__alpha': [0.01, 0.001, 0.0001]})\n",
        "grid_lr.fit(X_train, y_train)\n",
        "print(grid_lr.best_params_, grid_lr.best_score_, sep='\\n')"
      ],
      "metadata": {
        "colab": {
          "base_uri": "https://localhost:8080/"
        },
        "id": "iQ76XPl7xnt2",
        "outputId": "48628805-e148-4d35-d27f-ce4e9a1d7abe"
      },
      "execution_count": 110,
      "outputs": [
        {
          "output_type": "stream",
          "name": "stdout",
          "text": [
            "{'log__alpha': 0.0001, 'log__batch': 10, 'log__epochs': 100, 'log__lr': 0.01}\n",
            "0.7771870812983532\n"
          ]
        }
      ]
    },
    {
      "cell_type": "code",
      "source": [
        "log = grid_lr.best_estimator_\n",
        "draw_scores(log, X_test, y_test)"
      ],
      "metadata": {
        "colab": {
          "base_uri": "https://localhost:8080/",
          "height": 331
        },
        "id": "0692HRTex8Om",
        "outputId": "09ca02f0-ee94-47bc-d46a-840f672d5722"
      },
      "execution_count": 111,
      "outputs": [
        {
          "output_type": "stream",
          "name": "stdout",
          "text": [
            "Accuracy: 0.7805212620027435\n",
            "Precision: 0.7397420867526378\n",
            "Recall: 0.8655692729766804\n"
          ]
        },
        {
          "output_type": "display_data",
          "data": {
            "text/plain": [
              "<Figure size 864x288 with 3 Axes>"
            ],
            "image/png": "[encoded data removed]"
          },
          "metadata": {
            "needs_background": "light"
          }
        }
      ]
    },
    {
      "cell_type": "code",
      "source": [
        "with open('log_regr.pkl', 'wb') as f:\n",
        "    pickle.dump(log, f, pickle.HIGHEST_PROTOCOL)"
      ],
      "metadata": {
        "id": "z305Hywgqw6-"
      },
      "execution_count": 114,
      "outputs": []
    },
    {
      "cell_type": "markdown",
      "source": [
        "## Готовый из sklearn"
      ],
      "metadata": {
        "id": "HWzNj0NG0VlJ"
      }
    },
    {
      "cell_type": "code",
      "source": [
        "grid_lr_sk = GridSearchCV(Pipeline([('normalizer', Normalizer()), ('log', SGDClassifier(loss='log', learning_rate='constant'))]),\n",
        "                    {'log__eta0': [0.1, 0.01, 0.001], 'log__max_iter': [100, 1000, 5000], \n",
        "                     'log__alpha': [0.01, 0.001, 0.0001]})\n",
        "grid_lr_sk.fit(X_train, y_train)\n",
        "print(grid_lr_sk.best_params_, grid_lr_sk.best_score_, sep='\\n')"
      ],
      "metadata": {
        "colab": {
          "base_uri": "https://localhost:8080/"
        },
        "id": "kIK9Zk1-yUw2",
        "outputId": "3fc11899-0d9a-4cf5-897c-ecb507b473e4"
      },
      "execution_count": 112,
      "outputs": [
        {
          "output_type": "stream",
          "name": "stdout",
          "text": [
            "{'log__alpha': 0.001, 'log__eta0': 0.01, 'log__max_iter': 1000}\n",
            "0.7738071055020098\n"
          ]
        }
      ]
    },
    {
      "cell_type": "code",
      "source": [
        "log_sk = grid_lr_sk.best_estimator_\n",
        "draw_scores(log_sk, X_test, y_test)"
      ],
      "metadata": {
        "colab": {
          "base_uri": "https://localhost:8080/",
          "height": 331
        },
        "id": "69SPCtsU0vdy",
        "outputId": "889ca446-a589-4eb7-b478-360f62ec1382"
      },
      "execution_count": 113,
      "outputs": [
        {
          "output_type": "stream",
          "name": "stdout",
          "text": [
            "Accuracy: 0.7722908093278463\n",
            "Precision: 0.7394451145958987\n",
            "Recall: 0.840877914951989\n"
          ]
        },
        {
          "output_type": "display_data",
          "data": {
            "text/plain": [
              "<Figure size 864x288 with 3 Axes>"
            ],
            "image/png": "[encoded data removed]"
          },
          "metadata": {
            "needs_background": "light"
          }
        }
      ]
    },
    {
      "cell_type": "markdown",
      "source": [
        "# KNN"
      ],
      "metadata": {
        "id": "2Bf-QYMYy239"
      }
    },
    {
      "cell_type": "markdown",
      "source": [
        "## Своя реализация"
      ],
      "metadata": {
        "id": "o62SyQel1qVY"
      }
    },
    {
      "cell_type": "code",
      "source": [
        "class My_KNN(BaseEstimator, ClassifierMixin):\n",
        "    def __init__(self, k=5):\n",
        "        self.k = k\n",
        "    \n",
        "    def fit(self, data, labels):\n",
        "        self.data = data\n",
        "        self.labels = labels\n",
        "        return self\n",
        "    \n",
        "    def predict(self, data):\n",
        "        res = np.ndarray((data.shape[0],))\n",
        "        for i, x in enumerate(data):\n",
        "            neighbors = np.argpartition(((self.data - data[i]) ** 2).sum(axis=1), self.k - 1)[:self.k]\n",
        "            values, counts = np.unique(self.labels[neighbors], return_counts=True)\n",
        "            res[i] = values[counts.argmax()]\n",
        "        return res"
      ],
      "metadata": {
        "id": "ZVjRx-5ZYKLM"
      },
      "execution_count": null,
      "outputs": []
    },
    {
      "cell_type": "code",
      "source": [
        "grid_knn = GridSearchCV(Pipeline([('scaler', StandardScaler()), ('knn', My_KNN())]),\n",
        "                    {'knn__k': [1, 5, 11, 15]})\n",
        "grid_knn.fit(X_train, y_train)\n",
        "print(grid_knn.best_params_, grid_knn.best_score_, sep='\\n')"
      ],
      "metadata": {
        "colab": {
          "base_uri": "https://localhost:8080/"
        },
        "id": "AAc-1UFnYQiy",
        "outputId": "b637a08b-93df-4651-cd99-5a303a24cc05"
      },
      "execution_count": null,
      "outputs": [
        {
          "output_type": "stream",
          "name": "stdout",
          "text": [
            "{'knn__k': 1}\n",
            "0.962374551584043\n"
          ]
        }
      ]
    },
    {
      "cell_type": "code",
      "source": [
        "knn = grid_knn.best_estimator_\n",
        "draw_scores(knn, X_test, y_test)"
      ],
      "metadata": {
        "colab": {
          "base_uri": "https://localhost:8080/",
          "height": 331
        },
        "id": "CW24_L5fYVt-",
        "outputId": "137cb2d6-2613-45fb-8a60-2801aeb28870"
      },
      "execution_count": null,
      "outputs": [
        {
          "output_type": "stream",
          "name": "stdout",
          "text": [
            "Accuracy: 0.970164609053498\n",
            "Precision: 0.9436893203883495\n",
            "Recall: 1.0\n"
          ]
        },
        {
          "output_type": "display_data",
          "data": {
            "text/plain": [
              "<Figure size 864x288 with 3 Axes>"
            ],
            "image/png": "[encoded data removed]"
          },
          "metadata": {
            "needs_background": "light"
          }
        }
      ]
    },
    {
      "cell_type": "code",
      "source": [
        "with open('knn.pkl', 'wb') as f:\n",
        "    pickle.dump(knn, f, pickle.HIGHEST_PROTOCOL)"
      ],
      "metadata": {
        "id": "wGqQ2yFLCwww"
      },
      "execution_count": 86,
      "outputs": []
    },
    {
      "cell_type": "markdown",
      "source": [
        "## Готовый из sklearn"
      ],
      "metadata": {
        "id": "dy_jU83Y15b2"
      }
    },
    {
      "cell_type": "code",
      "source": [
        "grid_knn_sk = GridSearchCV(Pipeline([('scaler', StandardScaler()), ('knn', KNeighborsClassifier())]),\n",
        "                    {'knn__n_neighbors': [1, 5, 11, 15]})\n",
        "grid_knn_sk.fit(X_train, y_train)\n",
        "print(grid_knn_sk.best_params_, grid_knn_sk.best_score_, sep='\\n')"
      ],
      "metadata": {
        "colab": {
          "base_uri": "https://localhost:8080/"
        },
        "id": "tBCa9LO512Bm",
        "outputId": "c02a6900-342f-4bda-bc92-c3e5fead0436"
      },
      "execution_count": null,
      "outputs": [
        {
          "output_type": "stream",
          "name": "stdout",
          "text": [
            "{'knn__n_neighbors': 1}\n",
            "0.962374551584043\n"
          ]
        }
      ]
    },
    {
      "cell_type": "code",
      "source": [
        "knn_sk = grid_knn_sk.best_estimator_\n",
        "draw_scores(knn_sk, X_test, y_test)"
      ],
      "metadata": {
        "colab": {
          "base_uri": "https://localhost:8080/",
          "height": 331
        },
        "id": "59Ckuu0I2Nbc",
        "outputId": "c15613be-85f6-4a24-fb45-c3e4cae01974"
      },
      "execution_count": null,
      "outputs": [
        {
          "output_type": "stream",
          "name": "stdout",
          "text": [
            "Accuracy: 0.970164609053498\n",
            "Precision: 0.9436893203883495\n",
            "Recall: 1.0\n"
          ]
        },
        {
          "output_type": "display_data",
          "data": {
            "text/plain": [
              "<Figure size 864x288 with 3 Axes>"
            ],
            "image/png": "[encoded data removed]"
          },
          "metadata": {
            "needs_background": "light"
          }
        }
      ]
    },
    {
      "cell_type": "markdown",
      "source": [
        "# Naive Bayes"
      ],
      "metadata": {
        "id": "uJJXGvBV4FdE"
      }
    },
    {
      "cell_type": "markdown",
      "source": [
        "## Своя реализация"
      ],
      "metadata": {
        "id": "t378S6rSG5EY"
      }
    },
    {
      "cell_type": "code",
      "source": [
        "class My_GaussianNB(BaseEstimator, ClassifierMixin):\n",
        "    def __init__(self):\n",
        "        pass\n",
        "    \n",
        "    def fit(self, data, labels):\n",
        "        self.data = data\n",
        "        self.labels = labels\n",
        "        self.means = []\n",
        "        self.stds = []\n",
        "        for c in np.unique(labels):\n",
        "            self.means.append(data[labels == c,].mean(axis=0))\n",
        "            self.stds.append(data[labels == c,].std(axis=0))\n",
        "        self.classes = np.unique(labels, return_counts=True)[1] / len(labels)\n",
        "        return self\n",
        "    \n",
        "    def predict(self, data):\n",
        "        res = np.ndarray((data.shape[0],))\n",
        "        for i, obj in enumerate(data):\n",
        "            prob = np.array(self.classes)\n",
        "            for j in range(len(self.classes)):\n",
        "                prob[j] *= np.cumprod(1 / self.stds[j] / np.sqrt(2 * np.pi) * np.exp(((obj - self.means[j]) / self.stds[j]) ** 2 / -2))[-1]\n",
        "            res[i] = prob.argmax()\n",
        "        return res"
      ],
      "metadata": {
        "id": "BcPgwQ9xG7jE"
      },
      "execution_count": 106,
      "outputs": []
    },
    {
      "cell_type": "code",
      "source": [
        "gnb = Pipeline([('gauss bayes', My_GaussianNB())])\n",
        "gnb.fit(X_train, y_train)\n",
        "draw_scores(gnb, X_test, y_test)"
      ],
      "metadata": {
        "id": "CwgxCVD1IymF"
      },
      "execution_count": null,
      "outputs": []
    },
    {
      "cell_type": "code",
      "source": [
        "with open('naive_bayes.pkl', 'wb') as f:\n",
        "    pickle.dump(gnb, f, pickle.HIGHEST_PROTOCOL)"
      ],
      "metadata": {
        "id": "a7EVa9yHLOjo"
      },
      "execution_count": 108,
      "outputs": []
    },
    {
      "cell_type": "code",
      "source": [
        "sk_gnb = GaussianNB()\n",
        "sk_gnb.fit(X_train, y_train)\n",
        "draw_scores(sk_gnb, X_test, y_test)"
      ],
      "metadata": {
        "colab": {
          "base_uri": "https://localhost:8080/",
          "height": 331
        },
        "id": "WKKMz9JRJvC2",
        "outputId": "8c41924e-25ca-48c2-e3a5-9bee3085fd6b"
      },
      "execution_count": 102,
      "outputs": [
        {
          "output_type": "stream",
          "name": "stdout",
          "text": [
            "Accuracy: 0.6244855967078189\n",
            "Precision: 0.5715976331360947\n",
            "Recall: 0.9938271604938271\n"
          ]
        },
        {
          "output_type": "display_data",
          "data": {
            "text/plain": [
              "<Figure size 864x288 with 3 Axes>"
            ],
            "image/png": "[encoded data removed]"
          },
          "metadata": {
            "needs_background": "light"
          }
        }
      ]
    },
    {
      "cell_type": "markdown",
      "source": [
        "# SVM"
      ],
      "metadata": {
        "id": "UvmoBjO55jzN"
      }
    },
    {
      "cell_type": "markdown",
      "source": [
        "## Своя реализация"
      ],
      "metadata": {
        "id": "6Rtfx4mS799N"
      }
    },
    {
      "cell_type": "code",
      "source": [
        "class My_SVM(BaseEstimator, ClassifierMixin):\n",
        "    def __init__(self, lr=0.1, batch=10, epochs=1, alpha=0.0001):\n",
        "        self.lr = lr\n",
        "        self.batch = batch\n",
        "        self.epochs = epochs\n",
        "        self.alpha = alpha\n",
        "    \n",
        "    def fit(self, data, labels):\n",
        "        self.w = np.random.normal(0, 1, (data.shape[1]+1,))\n",
        "        data = np.concatenate((data, np.ones((data.shape[0],1))), axis=1)\n",
        "        labels = labels * 2 - 1\n",
        "        for _ in range(self.epochs):\n",
        "            for i in range(self.batch, len(data), self.batch):\n",
        "                data_batch = data[i-self.batch:i]\n",
        "                labels_batch = labels[i-self.batch:i]\n",
        "                \n",
        "                grad = 2 * self.alpha * self.w\n",
        "                for i, x in enumerate(data_batch):\n",
        "                    if 1 - x.dot(self.w) * labels_batch[i] > 0:\n",
        "                        grad -= x * labels_batch[i]\n",
        "                \n",
        "                self.w -= self.lr * grad\n",
        "        return self\n",
        "\n",
        "    def predict(self, data):\n",
        "        return (np.sign(np.concatenate((data, np.ones((data.shape[0],1))), axis=1).dot(self.w)) + 1) / 2"
      ],
      "metadata": {
        "id": "LCbg6jSk5oTG"
      },
      "execution_count": null,
      "outputs": []
    },
    {
      "cell_type": "code",
      "source": [
        "random_svm = RandomizedSearchCV(Pipeline([('scaler', StandardScaler()), ('svm', My_SVM())]),\n",
        "                    {'svm__lr': [0.1, 0.01, 0.001], 'svm__epochs': [1, 10, 100], \n",
        "                     'svm__batch': [10, 100, 1000], 'svm__alpha': [0.01, 0.001, 0.0001]})\n",
        "random_svm.fit(X_train, y_train)\n",
        "print(random_svm.best_params_, random_svm.best_score_, sep='\\n')"
      ],
      "metadata": {
        "colab": {
          "base_uri": "https://localhost:8080/"
        },
        "id": "QBhojF9O522A",
        "outputId": "3609ce6b-471e-4d90-bdc2-793958137842"
      },
      "execution_count": null,
      "outputs": [
        {
          "output_type": "stream",
          "name": "stdout",
          "text": [
            "{'svm__lr': 0.001, 'svm__epochs': 10, 'svm__batch': 10, 'svm__alpha': 0.01}\n",
            "0.7657249211220124\n"
          ]
        }
      ]
    },
    {
      "cell_type": "code",
      "source": [
        "grid_svm = GridSearchCV(Pipeline([('scaler', StandardScaler()), ('svm', My_SVM())]),\n",
        "                    {'svm__lr': [0.1, 0.01, 0.001], 'svm__epochs': [1, 10, 100], \n",
        "                     'svm__batch': [10, 100, 1000], 'svm__alpha': [0.01, 0.001, 0.0001]})\n",
        "grid_svm.fit(X_train, y_train)\n",
        "print(grid_svm.best_params_, grid_svm.best_score_, sep='\\n')"
      ],
      "metadata": {
        "colab": {
          "base_uri": "https://localhost:8080/"
        },
        "id": "u0LJYhtT7zBi",
        "outputId": "631a2040-b841-4b9e-cdbc-ead1bf8fff7a"
      },
      "execution_count": null,
      "outputs": [
        {
          "output_type": "stream",
          "name": "stdout",
          "text": [
            "{'svm__alpha': 0.001, 'svm__batch': 1000, 'svm__epochs': 10, 'svm__lr': 0.001}\n",
            "0.7708685222803302\n"
          ]
        }
      ]
    },
    {
      "cell_type": "code",
      "source": [
        "svm = grid_svm.best_estimator_\n",
        "draw_scores(svm, X_test, y_test)"
      ],
      "metadata": {
        "colab": {
          "base_uri": "https://localhost:8080/",
          "height": 331
        },
        "id": "DKSqg1wZ8ODi",
        "outputId": "7bd2c618-62e3-4ec4-c3ea-d9053d46c298"
      },
      "execution_count": null,
      "outputs": [
        {
          "output_type": "stream",
          "name": "stdout",
          "text": [
            "Accuracy: 0.7746913580246914\n",
            "Precision: 0.7559105431309904\n",
            "Recall: 0.8113854595336076\n"
          ]
        },
        {
          "output_type": "display_data",
          "data": {
            "text/plain": [
              "<Figure size 864x288 with 3 Axes>"
            ],
            "image/png": "[encoded data removed]"
          },
          "metadata": {
            "needs_background": "light"
          }
        }
      ]
    },
    {
      "cell_type": "code",
      "source": [
        "with open('svm.pkl', 'wb') as f:\n",
        "    pickle.dump(svm, f, pickle.HIGHEST_PROTOCOL)"
      ],
      "metadata": {
        "id": "hkAccls7DXf_"
      },
      "execution_count": 87,
      "outputs": []
    },
    {
      "cell_type": "markdown",
      "source": [
        "## Готовый из sklearn"
      ],
      "metadata": {
        "id": "eW56i1_eExbQ"
      }
    },
    {
      "cell_type": "code",
      "source": [
        "grid_svm_sk = GridSearchCV(Pipeline([('normalizer', Normalizer()), ('svm', SGDClassifier(loss='hinge', learning_rate='constant'))]),\n",
        "                    {'svm__eta0': [0.1, 0.01, 0.001], 'svm__max_iter': [100, 1000, 5000], \n",
        "                     'svm__alpha': [0.01, 0.001, 0.0001]})\n",
        "grid_svm_sk.fit(X_train, y_train)\n",
        "print(grid_svm_sk.best_params_, grid_svm_sk.best_score_, sep='\\n')"
      ],
      "metadata": {
        "colab": {
          "base_uri": "https://localhost:8080/"
        },
        "id": "aX7iV6nxDaWM",
        "outputId": "df154845-9a4c-4c56-e7b3-96c603e0fe83"
      },
      "execution_count": 89,
      "outputs": [
        {
          "output_type": "stream",
          "name": "stdout",
          "text": [
            "{'svm__alpha': 0.001, 'svm__eta0': 0.01, 'svm__max_iter': 1000}\n",
            "0.7707213554047628\n"
          ]
        }
      ]
    },
    {
      "cell_type": "code",
      "source": [
        "svm_sk = grid_svm_sk.best_estimator_\n",
        "draw_scores(svm_sk, X_test, y_test)"
      ],
      "metadata": {
        "colab": {
          "base_uri": "https://localhost:8080/",
          "height": 331
        },
        "id": "zQELsbQ6E5e7",
        "outputId": "021c4ff0-44ce-45c4-e695-8926cd2a89f6"
      },
      "execution_count": 91,
      "outputs": [
        {
          "output_type": "stream",
          "name": "stdout",
          "text": [
            "Accuracy: 0.7781207133058985\n",
            "Precision: 0.7229246838922485\n",
            "Recall: 0.901920438957476\n"
          ]
        },
        {
          "output_type": "display_data",
          "data": {
            "text/plain": [
              "<Figure size 864x288 with 3 Axes>"
            ],
            "image/png": "[encoded data removed]"
          },
          "metadata": {
            "needs_background": "light"
          }
        }
      ]
    }
  ]
}